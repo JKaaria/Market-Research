{
 "cells": [
  {
   "attachments": {},
   "cell_type": "markdown",
   "metadata": {},
   "source": [
    "# Twitter Data Processing Pipeline (No API)"
   ]
  },
  {
   "cell_type": "code",
   "execution_count": null,
   "metadata": {},
   "outputs": [],
   "source": [
    "import tweepy\n",
    "from textblob import TextBlob\n",
    "\n",
    "# Define Twitter API credentials\n",
    "consumer_key = 'your_consumer_key'\n",
    "consumer_secret = 'your_consumer_secret'\n",
    "access_token = 'your_access_token'\n",
    "access_token_secret = 'your_access_token_secret'\n",
    "\n",
    "# Authenticate with Twitter API\n",
    "auth = tweepy.OAuthHandler(consumer_key, consumer_secret)\n",
    "auth.set_access_token(access_token, access_token_secret)\n",
    "api = tweepy.API(auth)\n",
    "\n",
    "# Define query terms for Twitter search\n",
    "query_terms = 'geopolitical risks'\n",
    "\n",
    "# Collect recent tweets containing query terms\n",
    "tweets = api.search(q=query_terms, lang='en', count=100, tweet_mode='extended')\n",
    "\n",
    "# Assess sentiment polarity of each tweet\n",
    "sentiments = []\n",
    "for tweet in tweets:\n",
    "    text = tweet.full_text\n",
    "    sentiment = TextBlob(text).sentiment.polarity\n",
    "    sentiments.append(sentiment)\n",
    "\n",
    "# Calculate average sentiment polarity of all collected tweets\n",
    "average_sentiment = sum(sentiments) / len(sentiments)\n",
    "\n",
    "# Define threshold for sentiment polarity\n",
    "sentiment_threshold = 0.1\n",
    "\n",
    "# Check if sentiment polarity is positive or negative\n",
    "if average_sentiment > sentiment_threshold:\n",
    "    print(\"Positive sentiment towards geopolitical risks may lead to decreased demand for Treasuries and a flattening of the yield curve\")\n",
    "else:\n",
    "    print(\"Negative sentiment towards geopolitical risks may lead to increased demand for Treasuries and a steepening of the yield curve\")\n"
   ]
  }
 ],
 "metadata": {
  "kernelspec": {
   "display_name": "base",
   "language": "python",
   "name": "python3"
  },
  "language_info": {
   "codemirror_mode": {
    "name": "ipython",
    "version": 3
   },
   "file_extension": ".py",
   "mimetype": "text/x-python",
   "name": "python",
   "nbconvert_exporter": "python",
   "pygments_lexer": "ipython3",
   "version": "3.9.15"
  },
  "orig_nbformat": 4
 },
 "nbformat": 4,
 "nbformat_minor": 2
}
