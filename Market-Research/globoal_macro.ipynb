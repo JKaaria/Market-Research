{
 "cells": [
  {
   "cell_type": "code",
   "execution_count": 1,
   "metadata": {},
   "outputs": [
    {
     "name": "stdout",
     "output_type": "stream",
     "text": [
      "[*********************100%***********************]  4 of 4 completed\n",
      "[*********************100%***********************]  9 of 9 completed\n",
      "[*********************100%***********************]  9 of 9 completed\n",
      "[*********************100%***********************]  4 of 4 completed\n",
      "Global Macro: The outperforming asset class is ^TNX.\n",
      "G-10 FX: The outperforming asset class is USDCAD=X.\n",
      "US Sectors: The outperforming asset class is XLP.\n",
      "UST: The outperforming asset class is ^FVX.\n",
      "Overall: The outperforming asset class is ^FVX.\n"
     ]
    }
   ],
   "source": [
    "import yfinance as yf\n",
    "from datetime import date\n",
    "import time\n",
    "import pandas as pd\n",
    "\n",
    "# Define the tickers for each asset class\n",
    "global_macro_tickers = [\"SPY\", \"^TNX\", \"DX-Y.NYB\", \"GLD\"]\n",
    "g10_fx_tickers = [\"EURUSD=X\", \"GBPUSD=X\", \"USDJPY=X\", \"AUDUSD=X\", \"NZDUSD=X\", \"USDCAD=X\", \"USDCHF=X\", \"USDNOK=X\", \"USDSEK=X\"]\n",
    "us_sector_tickers = [\"XLE\", \"XLF\", \"XLV\", \"XLI\", \"XLY\", \"XLP\", \"XLRE\", \"XLK\", \"XLC\"]\n",
    "ust_tickers = [\"^IRX\", \"^FVX\", \"^TNX\", \"^TYX\"]\n",
    "\n",
    "# Define a dictionary to store the outperformer in each asset class\n",
    "outperformers = {}\n",
    "\n",
    "# Set the end date to today's date\n",
    "end_date = date.today()\n",
    "\n",
    "# Loop through each asset class and download historical price data for each ticker\n",
    "returns_dict = {}\n",
    "for asset_class, tickers in {\"Global Macro\": global_macro_tickers, \"G-10 FX\": g10_fx_tickers, \"US Sectors\": us_sector_tickers, \"UST\": ust_tickers}.items():\n",
    "    prices = yf.download(tickers, start=\"2023-01-01\", end=end_date, interval=\"1d\")[\"Adj Close\"]\n",
    "    returns = prices.pct_change().iloc[-1]\n",
    "    outperformer = returns.idxmax()\n",
    "    returns_dict[asset_class] = returns\n",
    "    outperformers[asset_class] = outperformer\n",
    "\n",
    "# Output the outperformer in each asset class\n",
    "for asset_class, outperformer in outperformers.items():\n",
    "    print(f\"{asset_class}: The outperforming asset class is {outperformer}.\")\n",
    "\n",
    "# Concatenate the returns of all asset classes and identify the overall outperformer\n",
    "all_returns = pd.concat(returns_dict.values())\n",
    "overall_outperformer = all_returns.idxmax()\n",
    "print(f\"Overall: The outperforming asset class is {overall_outperformer}.\")\n"
   ]
  }
 ],
 "metadata": {
  "kernelspec": {
   "display_name": "base",
   "language": "python",
   "name": "python3"
  },
  "language_info": {
   "codemirror_mode": {
    "name": "ipython",
    "version": 3
   },
   "file_extension": ".py",
   "mimetype": "text/x-python",
   "name": "python",
   "nbconvert_exporter": "python",
   "pygments_lexer": "ipython3",
   "version": "3.9.15"
  },
  "orig_nbformat": 4
 },
 "nbformat": 4,
 "nbformat_minor": 2
}
