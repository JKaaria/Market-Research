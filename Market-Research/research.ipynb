{
 "cells": [
  {
   "attachments": {},
   "cell_type": "markdown",
   "metadata": {},
   "source": [
    "# Global Macro Research"
   ]
  },
  {
   "cell_type": "code",
   "execution_count": 1,
   "metadata": {},
   "outputs": [
    {
     "name": "stdout",
     "output_type": "stream",
     "text": [
      "[*********************100%***********************]  4 of 4 completed\n",
      "The outperforming asset class is ^TNX.\n",
      "[*********************100%***********************]  5 of 5 completed\n",
      "US Growth Outlook - Positive - Potential for increased demand for higher yields steepening the curve\n",
      "No indication of short-term interest rate hike or curve flattening\n"
     ]
    }
   ],
   "source": [
    "import yfinance as yf\n",
    "import pandas_datareader as pdr\n",
    "from datetime import date, datetime\n",
    "\n",
    "# Define tickers for each asset class\n",
    "tickers = {\n",
    "    \"asset_class\": [\"SPY\", \"^TNX\", \"DX-Y.NYB\", \"GLD\"],\n",
    "    \"etf\": ['^DJI', 'XLY', 'XLI', 'XRT', 'ITB'],\n",
    "    \"inflation\": ['CPIAUCSL', 'DGS2', 'DGS10']\n",
    "}\n",
    "\n",
    "# Download historical price data for each asset class\n",
    "prices = yf.download(tickers[\"asset_class\"], start=\"2010-01-01\", end=date.today(), interval=\"1d\")[\"Adj Close\"]\n",
    "\n",
    "# Identify the outperforming asset class\n",
    "outperformer = prices.pct_change().iloc[-1].idxmax()\n",
    "print(f\"The outperforming asset class is {outperformer}.\")\n",
    "\n",
    "# Calculate average daily return across all ETFs and assess US growth\n",
    "data = yf.download(tickers[\"etf\"], start='2019-01-01', end=date.today().strftime('%Y-%m-%d'))\n",
    "avg_return = data['Adj Close'].pct_change().mean().mean()\n",
    "growth_outlook = \"Positive\" if avg_return > 0 else \"Negative\"\n",
    "print(f\"US Growth Outlook - {growth_outlook} - Potential for increased demand for higher yields steepening the curve\")\n",
    "\n",
    "# Download historical data for inflation metrics and Treasury yields\n",
    "data = pdr.DataReader(tickers[\"inflation\"], 'fred', datetime(2010, 1, 1), end=date.today().strftime('%Y-%m-%d'))\n",
    "\n",
    "# Check if CPI exceeds threshold and yield spread rises above threshold\n",
    "cpi_threshold = 2.0\n",
    "yield_spread_threshold1 = 100\n",
    "yield_spread_threshold2 = 50\n",
    "\n",
    "if data['CPIAUCSL'].pct_change(periods=12)[-1] > cpi_threshold:\n",
    "    yield_spread = data['DGS10'] - data['DGS2']\n",
    "    if yield_spread[-1] > yield_spread_threshold1:\n",
    "        print(\"Heightening Inflation - 2s10s Spread Widening\")\n",
    "    elif yield_spread[-1] > 0:\n",
    "        print(\"No indication of increasing treasury supply - Yield Curve Steepening\")\n",
    "    else:\n",
    "        print(\"No indication of inflation increasing demand for higher yields steepening the yield curve\")\n",
    "else:\n",
    "    print(\"No indication of short-term interest rate hike or curve flattening\")"
   ]
  }
 ],
 "metadata": {
  "kernelspec": {
   "display_name": "base",
   "language": "python",
   "name": "python3"
  },
  "language_info": {
   "codemirror_mode": {
    "name": "ipython",
    "version": 3
   },
   "file_extension": ".py",
   "mimetype": "text/x-python",
   "name": "python",
   "nbconvert_exporter": "python",
   "pygments_lexer": "ipython3",
   "version": "3.9.15"
  },
  "orig_nbformat": 4
 },
 "nbformat": 4,
 "nbformat_minor": 2
}
